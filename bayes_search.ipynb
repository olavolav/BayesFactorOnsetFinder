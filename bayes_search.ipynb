{
 "cells": [
  {
   "cell_type": "markdown",
   "metadata": {},
   "source": [
    "# Bayes starting point search\n",
    "\n",
    "The idea here is to use an approximation of Bayesian model comparison to identify the starting point `x1` where the linar part of a given time series transitions toa sigmoidal part"
   ]
  },
  {
   "cell_type": "code",
   "execution_count": null,
   "metadata": {},
   "outputs": [],
   "source": [
    "%matplotlib notebook\n",
    "import matplotlib.pyplot as plt\n",
    "\n",
    "import pandas as pd\n",
    "import numpy as np\n",
    "\n",
    "import random\n",
    "random.seed(123) # For repeatability"
   ]
  },
  {
   "cell_type": "markdown",
   "metadata": {},
   "source": [
    "## Generate synthetic data\n",
    "\n",
    "To be able to assess the quality of our model we first generate a large number of synthetic traces plus the correct `x1`."
   ]
  },
  {
   "cell_type": "code",
   "execution_count": null,
   "metadata": {},
   "outputs": [],
   "source": [
    "N = 10  # number of traces\n",
    "data = pd.DataFrame()\n",
    "\n",
    "for i in range(N):\n",
    "    S = random.randint(100, 200)  # number of samples\n",
    "    y0 = random.uniform(1, 20)  # offset\n",
    "    s = random.uniform(-0.1, 0.2)  # slope of linear part\n",
    "    std = random.uniform(1, 15)  # noise\n",
    "    x12 = random.randint(50, S - 50)  # halfway-point of sigmoid\n",
    "    xSigWidth = random.uniform(0.5, 30)  # width scaling factor of sigmoid\n",
    "    ySig = random.uniform(20, 300)  # height of sigmoid\n",
    "\n",
    "    x = np.arange(start=0, stop=S)\n",
    "    y = (\n",
    "        y0\n",
    "        + s * x\n",
    "        + ySig * np.tanh((x - x12) / xSigWidth)\n",
    "        + np.random.normal(scale=std, size=S)\n",
    "    )\n",
    "    data = data.append({\"x\": x, \"y\": y, \"S\": S, \"x12\": x12, \"xSigWidth\": xSigWidth}, ignore_index=True)"
   ]
  },
  {
   "cell_type": "code",
   "execution_count": null,
   "metadata": {},
   "outputs": [],
   "source": [
    "data.head()"
   ]
  },
  {
   "cell_type": "code",
   "execution_count": null,
   "metadata": {},
   "outputs": [],
   "source": [
    "fig = plt.figure(figsize=(9.5, 4))\n",
    "\n",
    "for i in range(min(N, 4)):\n",
    "    p = fig.add_subplot(1, 4, i + 1)\n",
    "    #     p.set(\n",
    "    #         xlabel=\"sample\",\n",
    "    #         ylabel=\"Vertical displacement / mm\",\n",
    "    #         title=\"Theoretical displacement / mm\",\n",
    "    #     )\n",
    "    p.plot(data.loc[i].x, data.loc[i].y)"
   ]
  },
  {
   "cell_type": "code",
   "execution_count": null,
   "metadata": {},
   "outputs": [],
   "source": []
  }
 ],
 "metadata": {
  "kernelspec": {
   "display_name": "Python 3",
   "language": "python",
   "name": "python3"
  },
  "language_info": {
   "codemirror_mode": {
    "name": "ipython",
    "version": 3
   },
   "file_extension": ".py",
   "mimetype": "text/x-python",
   "name": "python",
   "nbconvert_exporter": "python",
   "pygments_lexer": "ipython3",
   "version": "3.7.6"
  },
  "toc": {
   "base_numbering": 1,
   "nav_menu": {},
   "number_sections": true,
   "sideBar": true,
   "skip_h1_title": false,
   "title_cell": "Table of Contents",
   "title_sidebar": "Contents",
   "toc_cell": false,
   "toc_position": {},
   "toc_section_display": true,
   "toc_window_display": true
  }
 },
 "nbformat": 4,
 "nbformat_minor": 2
}
