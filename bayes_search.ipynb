{
 "cells": [
  {
   "cell_type": "markdown",
   "metadata": {},
   "source": [
    "# Bayes starting point search\n",
    "\n",
    "The idea here is to use an approximation of Bayesian model comparison to identify the starting point `x1` where the linar part of a given time series transitions toa sigmoidal part"
   ]
  },
  {
   "cell_type": "code",
   "execution_count": null,
   "metadata": {},
   "outputs": [],
   "source": [
    "%matplotlib notebook\n",
    "import matplotlib.pyplot as plt\n",
    "\n",
    "import pandas as pd\n",
    "import numpy as np\n",
    "\n",
    "import random"
   ]
  },
  {
   "cell_type": "markdown",
   "metadata": {},
   "source": [
    "## Generate synthetic data\n",
    "\n",
    "To be able to assess the quality of our model we first generate a large number of synthetic traces plus the correct `x1`."
   ]
  },
  {
   "cell_type": "code",
   "execution_count": null,
   "metadata": {},
   "outputs": [],
   "source": [
    "random.seed(123)  # For repeatability\n",
    "\n",
    "N = 6  # number of traces\n",
    "data = pd.DataFrame()\n",
    "\n",
    "for i in range(N):\n",
    "    S = random.randint(170, 400)  # number of samples\n",
    "    y0 = random.uniform(1, 20)  # offset\n",
    "    s = random.uniform(-0.2, 0.2)  # slope of linear part\n",
    "    std = random.uniform(3, 15)  # noise\n",
    "    x12 = random.randint(80, S - 80)  # halfway-point of sigmoid\n",
    "    xSigWidth = random.uniform(0.5, 30)  # width scaling factor of sigmoid\n",
    "    ySig = random.uniform(20, 300)  # height of sigmoid\n",
    "    xTrue = x12 - xSigWidth  # The \"true\" starting point\n",
    "\n",
    "    x = np.arange(start=0, stop=S)\n",
    "    y = (\n",
    "        y0\n",
    "        + s * x\n",
    "        + ySig * (0.5 + 0.5 * np.tanh((x - x12) / xSigWidth))\n",
    "        + np.random.normal(scale=std, size=S)\n",
    "    )\n",
    "    data = data.append(\n",
    "        {\"x\": x, \"y\": y, \"S\": S, \"x12\": x12, \"xSigWidth\": xSigWidth, \"xTrue\": xTrue},\n",
    "        ignore_index=True,\n",
    "    )"
   ]
  },
  {
   "cell_type": "code",
   "execution_count": null,
   "metadata": {},
   "outputs": [],
   "source": [
    "data.head()"
   ]
  },
  {
   "cell_type": "code",
   "execution_count": null,
   "metadata": {
    "scrolled": true
   },
   "outputs": [],
   "source": [
    "fig = plt.figure(figsize=(9.5, 4))\n",
    "\n",
    "for i in range(min(N, 4)):\n",
    "    trace = data.loc[i]\n",
    "    p = fig.add_subplot(1, 4, i + 1)\n",
    "    p.set(\n",
    "        xlabel=\"sample\", title=f\"trace #{i+1}\",\n",
    "    )\n",
    "    p.plot(trace.x, trace.y)\n",
    "    p.axvline(x=trace.xTrue, linewidth=1, color=\"r\")"
   ]
  },
  {
   "cell_type": "markdown",
   "metadata": {},
   "source": [
    "## Compare fits for a single trace"
   ]
  },
  {
   "cell_type": "code",
   "execution_count": null,
   "metadata": {},
   "outputs": [],
   "source": [
    "from scipy.stats import linregress\n",
    "from scipy.optimize import curve_fit\n",
    "\n",
    "\n",
    "def cut_raw_log_bf(x, y, limit, verbose=False):\n",
    "    return raw_log_bayes_factor(x[:limit], y[:limit], verbose=verbose)\n",
    "\n",
    "\n",
    "def lin_plus_sigmoid(x, y0, s, ySig, x12, xSigWidth):\n",
    "    return y0 + s * x + ySig * (0.5 + 0.5 * np.tanh((x - x12) / xSigWidth))\n",
    "\n",
    "\n",
    "def raw_log_bayes_factor(x, y, verbose=False):\n",
    "    \"\"\"This is the logBF without the constant factors.\"\"\"\n",
    "    variance_noise = np.var(y[:50])\n",
    "    if verbose:\n",
    "        print(f\"variance_noise = {variance_noise} (std of {np.sqrt(variance_noise)})\")\n",
    "\n",
    "    slope, intercept, r_value, p_value, std_err0 = linregress(x, y)\n",
    "    variance0 = np.var([intercept + x * slope for x in x] - y)\n",
    "    if verbose:\n",
    "        print(f\"variance0 = {variance0} (std of {np.sqrt(variance0)})\")\n",
    "\n",
    "    try:\n",
    "        popt, pcov = curve_fit(\n",
    "            lin_plus_sigmoid,\n",
    "            x,\n",
    "            y,\n",
    "            p0=[intercept, slope, 2 * (max(y) - min(y)), len(x) / 2, 5],\n",
    "            bounds=([-500, -100, 1, 5, 0.01], [500, 100, 5000, 5000, 100]),\n",
    "        )\n",
    "        variance1 = np.var([lin_plus_sigmoid(x, *popt) for x in x] - y)\n",
    "        if variance1 == float(\"inf\") or variance1 == float(\"-inf\"):\n",
    "            if verbose:\n",
    "                print(\"Warning: variance1 is infinite\")\n",
    "            raise\n",
    "        if verbose:\n",
    "            print(f\"variance1 = {variance1} (std of {np.sqrt(variance1)})\")\n",
    "\n",
    "        bf = len(x) * (variance0 - variance1) / variance_noise\n",
    "        if verbose:\n",
    "            print(f\"bf = {bf}\")\n",
    "        return (bf, (intercept, slope), tuple(popt))\n",
    "    except:\n",
    "        print(\"Warning: Failed to find sigmoidal fit.\")\n",
    "        return (None, (intercept, slope), (None, None, None, None, None))"
   ]
  },
  {
   "cell_type": "code",
   "execution_count": null,
   "metadata": {},
   "outputs": [],
   "source": [
    "trace = data.loc[0]\n",
    "# raw_log_bayes_factor(trace.x, trace.y)\n",
    "cut_raw_log_bf(trace.x,trace.y,100)"
   ]
  },
  {
   "cell_type": "code",
   "execution_count": null,
   "metadata": {},
   "outputs": [],
   "source": [
    "trace = data.loc[1]\n",
    "\n",
    "fig = plt.figure(figsize=(9.5, 2 * 4))\n",
    "\n",
    "# Plot trace itself again\n",
    "p = fig.add_subplot(2, 2, 1)\n",
    "p.set(title=\"amplitude\")\n",
    "p.set_xlim([0, len(trace.x)])\n",
    "p.plot(trace.x, trace.y)\n",
    "p.axvline(x=trace.xTrue, linewidth=1, color=\"r\")\n",
    "\n",
    "# Plot Bayes factor\n",
    "xs = np.arange(start=50, stop=len(trace.x))\n",
    "bf_trace = [cut_raw_log_bf(trace.x, trace.y, i)[0] for i in xs]\n",
    "p = fig.add_subplot(2, 2, 2)\n",
    "p.set(title=\"Bayes factor\",)\n",
    "p.set_xlim([0, len(trace.x)])\n",
    "p.set_ylim([-100, 1000])\n",
    "p.plot(xs, bf_trace)\n",
    "p.axvline(x=trace.xTrue, linewidth=1, color=\"r\")\n",
    "\n",
    "# Find fit at specific point\n",
    "x_limit = 150\n",
    "(bf, (intercept, slope), sig_params) = cut_raw_log_bf(\n",
    "    trace.x, trace.y, x_limit, verbose=True\n",
    ")\n",
    "print(f\"At x_limit = {x_limit}, BF = {bf}\")\n",
    "\n",
    "if bf is not None:\n",
    "    # Plot linear fit\n",
    "    ys_fit = intercept + slope * trace.x\n",
    "    p = fig.add_subplot(2, 2, 3)\n",
    "    p.set(title=\"Linear fit\")\n",
    "    p.set_xlim([0, len(trace.x)])\n",
    "    #     p.plot(trace.x, trace.y)\n",
    "    p.plot(trace.x[:x_limit], trace.y[:x_limit])\n",
    "    p.plot(trace.x[x_limit:], trace.y[x_limit:], color=\"0.8\")\n",
    "    p.plot(trace.x, ys_fit)\n",
    "    p.axvline(x=trace.xTrue, linewidth=1, color=\"r\")\n",
    "    p.axvline(x=x_limit, linewidth=1, color=\"0.7\")\n",
    "\n",
    "    # Plot sigmoidal fit\n",
    "    ys_fit = [lin_plus_sigmoid(x, *sig_params) for x in trace.x]\n",
    "    p = fig.add_subplot(2, 2, 4)\n",
    "    p.set(title=\"Sigmoidal fit\")\n",
    "    p.set_xlim([0, len(trace.x)])\n",
    "    #     p.plot(trace.x, trace.y)\n",
    "    p.plot(trace.x[:x_limit], trace.y[:x_limit])\n",
    "    p.plot(trace.x[x_limit:], trace.y[x_limit:], color=\"0.8\")\n",
    "    p.plot(trace.x, ys_fit)\n",
    "    p.axvline(x=trace.xTrue, linewidth=1, color=\"r\")\n",
    "    p.axvline(x=x_limit, linewidth=1, color=\"0.7\")"
   ]
  },
  {
   "cell_type": "markdown",
   "metadata": {},
   "source": [
    "## Compute Bayes factor traces"
   ]
  },
  {
   "cell_type": "code",
   "execution_count": null,
   "metadata": {},
   "outputs": [],
   "source": [
    "fig = plt.figure(figsize=(9.5, 4))\n",
    "\n",
    "for i in range(min(N, 4)):\n",
    "    trace = data.loc[i]\n",
    "    xs = np.arange(start=50, stop=len(trace.x))\n",
    "    bf_trace = [cut_raw_log_bf(trace.x, trace.y, i)[0] for i in xs]\n",
    "\n",
    "    p = fig.add_subplot(1, 4, i + 1)\n",
    "    p.set(\n",
    "        xlabel=\"sample\", title=f\"trace #{i+1}\",\n",
    "    )\n",
    "    p.plot(xs, bf_trace)\n",
    "    p.set_ylim([-5, 100])\n",
    "    p.axvline(x=trace.xTrue, linewidth=1, color=\"r\")\n",
    "    p.axhline(y=3, linewidth=1, color=\"g\")"
   ]
  },
  {
   "cell_type": "code",
   "execution_count": null,
   "metadata": {},
   "outputs": [],
   "source": [
    "def add_bf_trace(row):\n",
    "    bf_x = np.arange(start=50, stop=len(row.x))\n",
    "    bf_y = np.array([cut_raw_log_bf(row.x, row.y, i)[0] for i in bf_x])\n",
    "\n",
    "    # Remove points where no fit was possible\n",
    "    bf_trace = np.array(list(zip(bf_x, bf_y)))\n",
    "    row[\"bf_trace\"] = bf_trace[bf_trace[:, 1] != None]\n",
    "\n",
    "    print(\"One trace done.\")\n",
    "    return row\n",
    "\n",
    "\n",
    "data_with_bfs = data.apply(add_bf_trace, axis=1)\n",
    "data_with_bfs.head()"
   ]
  },
  {
   "cell_type": "code",
   "execution_count": null,
   "metadata": {},
   "outputs": [],
   "source": [
    "data_with_bfs.head()"
   ]
  },
  {
   "cell_type": "markdown",
   "metadata": {},
   "source": [
    "## Evaluate mean error depending on \"Bayes offset\""
   ]
  },
  {
   "cell_type": "code",
   "execution_count": null,
   "metadata": {},
   "outputs": [],
   "source": [
    "# Scan through the following values of the Bayes offset\n",
    "cs = np.linspace(start=0, stop=40, num=20)\n",
    "\n",
    "def find_last_root(trace, thresh=0):\n",
    "    # We reverse the trace since we want to start from the end\n",
    "    t2 = np.flip(trace, 0)\n",
    "    # TODO Actually interpolate\n",
    "    #     last_x, _last_y = None, None\n",
    "    for x, y in t2:\n",
    "        if y <= thresh:\n",
    "            return x\n",
    "    return 0\n",
    "\n",
    "def error(bf_trace, xTrue, const):\n",
    "    return abs(xTrue - find_last_root(bf_trace, const))\n",
    "\n",
    "maes = []\n",
    "\n",
    "for c in cs:\n",
    "    errors = [error(row.bf_trace, row.xTrue, c) for i, row in data_with_bfs.iterrows()]\n",
    "    mae = sum(errors) / len(errors)\n",
    "    maes.append(mae)"
   ]
  },
  {
   "cell_type": "code",
   "execution_count": null,
   "metadata": {},
   "outputs": [],
   "source": [
    "maes"
   ]
  },
  {
   "cell_type": "code",
   "execution_count": null,
   "metadata": {},
   "outputs": [],
   "source": [
    "fig = plt.figure()\n",
    "p = fig.add_subplot(1, 1, 1)\n",
    "p.set(\n",
    "    xlabel=\"Bayes offset\", ylabel=f\"mean absolute error\",\n",
    ")\n",
    "p.plot(cs, maes)"
   ]
  },
  {
   "cell_type": "code",
   "execution_count": null,
   "metadata": {},
   "outputs": [],
   "source": []
  }
 ],
 "metadata": {
  "kernelspec": {
   "display_name": "Python 3",
   "language": "python",
   "name": "python3"
  },
  "language_info": {
   "codemirror_mode": {
    "name": "ipython",
    "version": 3
   },
   "file_extension": ".py",
   "mimetype": "text/x-python",
   "name": "python",
   "nbconvert_exporter": "python",
   "pygments_lexer": "ipython3",
   "version": "3.7.6"
  },
  "toc": {
   "base_numbering": 1,
   "nav_menu": {},
   "number_sections": true,
   "sideBar": true,
   "skip_h1_title": false,
   "title_cell": "Table of Contents",
   "title_sidebar": "Contents",
   "toc_cell": false,
   "toc_position": {},
   "toc_section_display": true,
   "toc_window_display": false
  }
 },
 "nbformat": 4,
 "nbformat_minor": 2
}
